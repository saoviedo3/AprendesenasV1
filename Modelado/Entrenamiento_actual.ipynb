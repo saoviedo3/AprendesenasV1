{
  "nbformat": 4,
  "nbformat_minor": 0,
  "metadata": {
    "colab": {
      "provenance": [],
      "gpuType": "T4"
    },
    "kernelspec": {
      "name": "python3",
      "display_name": "Python 3"
    },
    "language_info": {
      "name": "python"
    },
    "accelerator": "GPU"
  },
  "cells": [
    {
      "cell_type": "code",
      "source": [
        "!pip -y uninstall tensorflow\n",
        "!pip install tensorflow==2.12.0"
      ],
      "metadata": {
        "id": "bX9xpXYchLMM",
        "colab": {
          "base_uri": "https://localhost:8080/",
          "height": 1000
        },
        "outputId": "8bfab6d6-96a0-4206-8c8e-117560846fad"
      },
      "execution_count": null,
      "outputs": [
        {
          "output_type": "stream",
          "name": "stdout",
          "text": [
            "\n",
            "Usage:   \n",
            "  pip3 <command> [options]\n",
            "\n",
            "no such option: -y\n",
            "Collecting tensorflow==2.12.0\n",
            "  Downloading tensorflow-2.12.0-cp311-cp311-manylinux_2_17_x86_64.manylinux2014_x86_64.whl.metadata (3.4 kB)\n",
            "Requirement already satisfied: absl-py>=1.0.0 in /usr/local/lib/python3.11/dist-packages (from tensorflow==2.12.0) (1.4.0)\n",
            "Requirement already satisfied: astunparse>=1.6.0 in /usr/local/lib/python3.11/dist-packages (from tensorflow==2.12.0) (1.6.3)\n",
            "Requirement already satisfied: flatbuffers>=2.0 in /usr/local/lib/python3.11/dist-packages (from tensorflow==2.12.0) (25.2.10)\n",
            "Collecting gast<=0.4.0,>=0.2.1 (from tensorflow==2.12.0)\n",
            "  Downloading gast-0.4.0-py3-none-any.whl.metadata (1.1 kB)\n",
            "Requirement already satisfied: google-pasta>=0.1.1 in /usr/local/lib/python3.11/dist-packages (from tensorflow==2.12.0) (0.2.0)\n",
            "Requirement already satisfied: grpcio<2.0,>=1.24.3 in /usr/local/lib/python3.11/dist-packages (from tensorflow==2.12.0) (1.73.0)\n",
            "Requirement already satisfied: h5py>=2.9.0 in /usr/local/lib/python3.11/dist-packages (from tensorflow==2.12.0) (3.14.0)\n",
            "Requirement already satisfied: jax>=0.3.15 in /usr/local/lib/python3.11/dist-packages (from tensorflow==2.12.0) (0.5.2)\n",
            "Collecting keras<2.13,>=2.12.0 (from tensorflow==2.12.0)\n",
            "  Downloading keras-2.12.0-py2.py3-none-any.whl.metadata (1.4 kB)\n",
            "Requirement already satisfied: libclang>=13.0.0 in /usr/local/lib/python3.11/dist-packages (from tensorflow==2.12.0) (18.1.1)\n",
            "Collecting numpy<1.24,>=1.22 (from tensorflow==2.12.0)\n",
            "  Downloading numpy-1.23.5-cp311-cp311-manylinux_2_17_x86_64.manylinux2014_x86_64.whl.metadata (2.3 kB)\n",
            "Requirement already satisfied: opt-einsum>=2.3.2 in /usr/local/lib/python3.11/dist-packages (from tensorflow==2.12.0) (3.4.0)\n",
            "Requirement already satisfied: packaging in /usr/local/lib/python3.11/dist-packages (from tensorflow==2.12.0) (24.2)\n",
            "Collecting protobuf!=4.21.0,!=4.21.1,!=4.21.2,!=4.21.3,!=4.21.4,!=4.21.5,<5.0.0dev,>=3.20.3 (from tensorflow==2.12.0)\n",
            "  Downloading protobuf-4.25.8-cp37-abi3-manylinux2014_x86_64.whl.metadata (541 bytes)\n",
            "Requirement already satisfied: setuptools in /usr/local/lib/python3.11/dist-packages (from tensorflow==2.12.0) (75.2.0)\n",
            "Requirement already satisfied: six>=1.12.0 in /usr/local/lib/python3.11/dist-packages (from tensorflow==2.12.0) (1.17.0)\n",
            "Collecting tensorboard<2.13,>=2.12 (from tensorflow==2.12.0)\n",
            "  Downloading tensorboard-2.12.3-py3-none-any.whl.metadata (1.8 kB)\n",
            "Collecting tensorflow-estimator<2.13,>=2.12.0 (from tensorflow==2.12.0)\n",
            "  Downloading tensorflow_estimator-2.12.0-py2.py3-none-any.whl.metadata (1.3 kB)\n",
            "Requirement already satisfied: termcolor>=1.1.0 in /usr/local/lib/python3.11/dist-packages (from tensorflow==2.12.0) (3.1.0)\n",
            "Requirement already satisfied: typing-extensions>=3.6.6 in /usr/local/lib/python3.11/dist-packages (from tensorflow==2.12.0) (4.14.0)\n",
            "Collecting wrapt<1.15,>=1.11.0 (from tensorflow==2.12.0)\n",
            "  Downloading wrapt-1.14.1-cp311-cp311-manylinux_2_5_x86_64.manylinux1_x86_64.manylinux_2_17_x86_64.manylinux2014_x86_64.whl.metadata (6.7 kB)\n",
            "Requirement already satisfied: tensorflow-io-gcs-filesystem>=0.23.1 in /usr/local/lib/python3.11/dist-packages (from tensorflow==2.12.0) (0.37.1)\n",
            "Requirement already satisfied: wheel<1.0,>=0.23.0 in /usr/local/lib/python3.11/dist-packages (from astunparse>=1.6.0->tensorflow==2.12.0) (0.45.1)\n",
            "Requirement already satisfied: jaxlib<=0.5.2,>=0.5.1 in /usr/local/lib/python3.11/dist-packages (from jax>=0.3.15->tensorflow==2.12.0) (0.5.1)\n",
            "Requirement already satisfied: ml_dtypes>=0.4.0 in /usr/local/lib/python3.11/dist-packages (from jax>=0.3.15->tensorflow==2.12.0) (0.4.1)\n",
            "INFO: pip is looking at multiple versions of jax to determine which version is compatible with other requirements. This could take a while.\n",
            "Collecting jax>=0.3.15 (from tensorflow==2.12.0)\n",
            "  Downloading jax-0.6.2-py3-none-any.whl.metadata (13 kB)\n",
            "Collecting jaxlib<=0.6.2,>=0.6.2 (from jax>=0.3.15->tensorflow==2.12.0)\n",
            "  Downloading jaxlib-0.6.2-cp311-cp311-manylinux2014_x86_64.whl.metadata (1.3 kB)\n",
            "Collecting ml_dtypes>=0.5.0 (from jax>=0.3.15->tensorflow==2.12.0)\n",
            "  Downloading ml_dtypes-0.5.1-cp311-cp311-manylinux_2_17_x86_64.manylinux2014_x86_64.whl.metadata (21 kB)\n",
            "Collecting jax>=0.3.15 (from tensorflow==2.12.0)\n",
            "  Downloading jax-0.6.1-py3-none-any.whl.metadata (13 kB)\n",
            "Collecting jaxlib<=0.6.1,>=0.6.1 (from jax>=0.3.15->tensorflow==2.12.0)\n",
            "  Downloading jaxlib-0.6.1-cp311-cp311-manylinux2014_x86_64.whl.metadata (1.2 kB)\n",
            "Collecting jax>=0.3.15 (from tensorflow==2.12.0)\n",
            "  Downloading jax-0.6.0-py3-none-any.whl.metadata (22 kB)\n",
            "Collecting jaxlib<=0.6.0,>=0.6.0 (from jax>=0.3.15->tensorflow==2.12.0)\n",
            "  Downloading jaxlib-0.6.0-cp311-cp311-manylinux2014_x86_64.whl.metadata (1.2 kB)\n",
            "Collecting jax>=0.3.15 (from tensorflow==2.12.0)\n",
            "  Downloading jax-0.5.3-py3-none-any.whl.metadata (22 kB)\n",
            "Collecting jaxlib<=0.5.3,>=0.5.3 (from jax>=0.3.15->tensorflow==2.12.0)\n",
            "  Downloading jaxlib-0.5.3-cp311-cp311-manylinux2014_x86_64.whl.metadata (1.2 kB)\n",
            "Collecting jax>=0.3.15 (from tensorflow==2.12.0)\n",
            "  Downloading jax-0.5.1-py3-none-any.whl.metadata (22 kB)\n",
            "  Downloading jax-0.5.0-py3-none-any.whl.metadata (22 kB)\n",
            "Collecting jaxlib<=0.5.0,>=0.5.0 (from jax>=0.3.15->tensorflow==2.12.0)\n",
            "  Downloading jaxlib-0.5.0-cp311-cp311-manylinux2014_x86_64.whl.metadata (978 bytes)\n",
            "Collecting jax>=0.3.15 (from tensorflow==2.12.0)\n",
            "  Downloading jax-0.4.38-py3-none-any.whl.metadata (22 kB)\n",
            "Collecting jaxlib<=0.4.38,>=0.4.38 (from jax>=0.3.15->tensorflow==2.12.0)\n",
            "  Downloading jaxlib-0.4.38-cp311-cp311-manylinux2014_x86_64.whl.metadata (1.0 kB)\n",
            "INFO: pip is still looking at multiple versions of jax to determine which version is compatible with other requirements. This could take a while.\n",
            "Collecting jax>=0.3.15 (from tensorflow==2.12.0)\n",
            "  Downloading jax-0.4.37-py3-none-any.whl.metadata (22 kB)\n",
            "Collecting jaxlib<=0.4.37,>=0.4.36 (from jax>=0.3.15->tensorflow==2.12.0)\n",
            "  Downloading jaxlib-0.4.36-cp311-cp311-manylinux2014_x86_64.whl.metadata (1.0 kB)\n",
            "Collecting jax>=0.3.15 (from tensorflow==2.12.0)\n",
            "  Downloading jax-0.4.36-py3-none-any.whl.metadata (22 kB)\n",
            "  Downloading jax-0.4.35-py3-none-any.whl.metadata (22 kB)\n",
            "Collecting jaxlib<=0.4.35,>=0.4.34 (from jax>=0.3.15->tensorflow==2.12.0)\n",
            "  Downloading jaxlib-0.4.35-cp311-cp311-manylinux2014_x86_64.whl.metadata (983 bytes)\n",
            "Collecting jax>=0.3.15 (from tensorflow==2.12.0)\n",
            "  Downloading jax-0.4.34-py3-none-any.whl.metadata (22 kB)\n",
            "Collecting jaxlib<=0.4.34,>=0.4.34 (from jax>=0.3.15->tensorflow==2.12.0)\n",
            "  Downloading jaxlib-0.4.34-cp311-cp311-manylinux2014_x86_64.whl.metadata (983 bytes)\n",
            "Collecting jax>=0.3.15 (from tensorflow==2.12.0)\n",
            "  Downloading jax-0.4.33-py3-none-any.whl.metadata (22 kB)\n",
            "Collecting jaxlib<=0.4.33,>=0.4.33 (from jax>=0.3.15->tensorflow==2.12.0)\n",
            "  Downloading jaxlib-0.4.33-cp311-cp311-manylinux2014_x86_64.whl.metadata (983 bytes)\n",
            "INFO: This is taking longer than usual. You might need to provide the dependency resolver with stricter constraints to reduce runtime. See https://pip.pypa.io/warnings/backtracking for guidance. If you want to abort this run, press Ctrl + C.\n",
            "Collecting jax>=0.3.15 (from tensorflow==2.12.0)\n",
            "  Downloading jax-0.4.31-py3-none-any.whl.metadata (22 kB)\n",
            "Collecting jaxlib<=0.4.31,>=0.4.30 (from jax>=0.3.15->tensorflow==2.12.0)\n",
            "  Downloading jaxlib-0.4.31-cp311-cp311-manylinux2014_x86_64.whl.metadata (983 bytes)\n",
            "Collecting jax>=0.3.15 (from tensorflow==2.12.0)\n",
            "  Downloading jax-0.4.30-py3-none-any.whl.metadata (22 kB)\n",
            "Collecting jaxlib<=0.4.30,>=0.4.27 (from jax>=0.3.15->tensorflow==2.12.0)\n",
            "  Downloading jaxlib-0.4.30-cp311-cp311-manylinux2014_x86_64.whl.metadata (1.0 kB)\n",
            "Requirement already satisfied: scipy>=1.9 in /usr/local/lib/python3.11/dist-packages (from jax>=0.3.15->tensorflow==2.12.0) (1.15.3)\n",
            "Requirement already satisfied: google-auth<3,>=1.6.3 in /usr/local/lib/python3.11/dist-packages (from tensorboard<2.13,>=2.12->tensorflow==2.12.0) (2.38.0)\n",
            "Collecting google-auth-oauthlib<1.1,>=0.5 (from tensorboard<2.13,>=2.12->tensorflow==2.12.0)\n",
            "  Downloading google_auth_oauthlib-1.0.0-py2.py3-none-any.whl.metadata (2.7 kB)\n",
            "Requirement already satisfied: markdown>=2.6.8 in /usr/local/lib/python3.11/dist-packages (from tensorboard<2.13,>=2.12->tensorflow==2.12.0) (3.8)\n",
            "Requirement already satisfied: requests<3,>=2.21.0 in /usr/local/lib/python3.11/dist-packages (from tensorboard<2.13,>=2.12->tensorflow==2.12.0) (2.32.3)\n",
            "Requirement already satisfied: tensorboard-data-server<0.8.0,>=0.7.0 in /usr/local/lib/python3.11/dist-packages (from tensorboard<2.13,>=2.12->tensorflow==2.12.0) (0.7.2)\n",
            "Requirement already satisfied: werkzeug>=1.0.1 in /usr/local/lib/python3.11/dist-packages (from tensorboard<2.13,>=2.12->tensorflow==2.12.0) (3.1.3)\n",
            "Requirement already satisfied: cachetools<6.0,>=2.0.0 in /usr/local/lib/python3.11/dist-packages (from google-auth<3,>=1.6.3->tensorboard<2.13,>=2.12->tensorflow==2.12.0) (5.5.2)\n",
            "Requirement already satisfied: pyasn1-modules>=0.2.1 in /usr/local/lib/python3.11/dist-packages (from google-auth<3,>=1.6.3->tensorboard<2.13,>=2.12->tensorflow==2.12.0) (0.4.2)\n",
            "Requirement already satisfied: rsa<5,>=3.1.4 in /usr/local/lib/python3.11/dist-packages (from google-auth<3,>=1.6.3->tensorboard<2.13,>=2.12->tensorflow==2.12.0) (4.9.1)\n",
            "Requirement already satisfied: requests-oauthlib>=0.7.0 in /usr/local/lib/python3.11/dist-packages (from google-auth-oauthlib<1.1,>=0.5->tensorboard<2.13,>=2.12->tensorflow==2.12.0) (2.0.0)\n",
            "Requirement already satisfied: charset-normalizer<4,>=2 in /usr/local/lib/python3.11/dist-packages (from requests<3,>=2.21.0->tensorboard<2.13,>=2.12->tensorflow==2.12.0) (3.4.2)\n",
            "Requirement already satisfied: idna<4,>=2.5 in /usr/local/lib/python3.11/dist-packages (from requests<3,>=2.21.0->tensorboard<2.13,>=2.12->tensorflow==2.12.0) (3.10)\n",
            "Requirement already satisfied: urllib3<3,>=1.21.1 in /usr/local/lib/python3.11/dist-packages (from requests<3,>=2.21.0->tensorboard<2.13,>=2.12->tensorflow==2.12.0) (2.4.0)\n",
            "Requirement already satisfied: certifi>=2017.4.17 in /usr/local/lib/python3.11/dist-packages (from requests<3,>=2.21.0->tensorboard<2.13,>=2.12->tensorflow==2.12.0) (2025.6.15)\n",
            "Requirement already satisfied: MarkupSafe>=2.1.1 in /usr/local/lib/python3.11/dist-packages (from werkzeug>=1.0.1->tensorboard<2.13,>=2.12->tensorflow==2.12.0) (3.0.2)\n",
            "Requirement already satisfied: pyasn1<0.7.0,>=0.6.1 in /usr/local/lib/python3.11/dist-packages (from pyasn1-modules>=0.2.1->google-auth<3,>=1.6.3->tensorboard<2.13,>=2.12->tensorflow==2.12.0) (0.6.1)\n",
            "Requirement already satisfied: oauthlib>=3.0.0 in /usr/local/lib/python3.11/dist-packages (from requests-oauthlib>=0.7.0->google-auth-oauthlib<1.1,>=0.5->tensorboard<2.13,>=2.12->tensorflow==2.12.0) (3.2.2)\n",
            "Downloading tensorflow-2.12.0-cp311-cp311-manylinux_2_17_x86_64.manylinux2014_x86_64.whl (586.0 MB)\n",
            "\u001b[2K   \u001b[90m━━━━━━━━━━━━━━━━━━━━━━━━━━━━━━━━━━━━━━━━\u001b[0m \u001b[32m586.0/586.0 MB\u001b[0m \u001b[31m1.3 MB/s\u001b[0m eta \u001b[36m0:00:00\u001b[0m\n",
            "\u001b[?25hDownloading gast-0.4.0-py3-none-any.whl (9.8 kB)\n",
            "Downloading jax-0.4.30-py3-none-any.whl (2.0 MB)\n",
            "\u001b[2K   \u001b[90m━━━━━━━━━━━━━━━━━━━━━━━━━━━━━━━━━━━━━━━━\u001b[0m \u001b[32m2.0/2.0 MB\u001b[0m \u001b[31m55.1 MB/s\u001b[0m eta \u001b[36m0:00:00\u001b[0m\n",
            "\u001b[?25hDownloading keras-2.12.0-py2.py3-none-any.whl (1.7 MB)\n",
            "\u001b[2K   \u001b[90m━━━━━━━━━━━━━━━━━━━━━━━━━━━━━━━━━━━━━━━━\u001b[0m \u001b[32m1.7/1.7 MB\u001b[0m \u001b[31m51.1 MB/s\u001b[0m eta \u001b[36m0:00:00\u001b[0m\n",
            "\u001b[?25hDownloading numpy-1.23.5-cp311-cp311-manylinux_2_17_x86_64.manylinux2014_x86_64.whl (17.1 MB)\n",
            "\u001b[2K   \u001b[90m━━━━━━━━━━━━━━━━━━━━━━━━━━━━━━━━━━━━━━━━\u001b[0m \u001b[32m17.1/17.1 MB\u001b[0m \u001b[31m71.0 MB/s\u001b[0m eta \u001b[36m0:00:00\u001b[0m\n",
            "\u001b[?25hDownloading protobuf-4.25.8-cp37-abi3-manylinux2014_x86_64.whl (294 kB)\n",
            "\u001b[2K   \u001b[90m━━━━━━━━━━━━━━━━━━━━━━━━━━━━━━━━━━━━━━━━\u001b[0m \u001b[32m294.9/294.9 kB\u001b[0m \u001b[31m17.3 MB/s\u001b[0m eta \u001b[36m0:00:00\u001b[0m\n",
            "\u001b[?25hDownloading tensorboard-2.12.3-py3-none-any.whl (5.6 MB)\n",
            "\u001b[2K   \u001b[90m━━━━━━━━━━━━━━━━━━━━━━━━━━━━━━━━━━━━━━━━\u001b[0m \u001b[32m5.6/5.6 MB\u001b[0m \u001b[31m72.4 MB/s\u001b[0m eta \u001b[36m0:00:00\u001b[0m\n",
            "\u001b[?25hDownloading tensorflow_estimator-2.12.0-py2.py3-none-any.whl (440 kB)\n",
            "\u001b[2K   \u001b[90m━━━━━━━━━━━━━━━━━━━━━━━━━━━━━━━━━━━━━━━━\u001b[0m \u001b[32m440.7/440.7 kB\u001b[0m \u001b[31m26.4 MB/s\u001b[0m eta \u001b[36m0:00:00\u001b[0m\n",
            "\u001b[?25hDownloading wrapt-1.14.1-cp311-cp311-manylinux_2_5_x86_64.manylinux1_x86_64.manylinux_2_17_x86_64.manylinux2014_x86_64.whl (78 kB)\n",
            "\u001b[2K   \u001b[90m━━━━━━━━━━━━━━━━━━━━━━━━━━━━━━━━━━━━━━━━\u001b[0m \u001b[32m78.4/78.4 kB\u001b[0m \u001b[31m5.9 MB/s\u001b[0m eta \u001b[36m0:00:00\u001b[0m\n",
            "\u001b[?25hDownloading google_auth_oauthlib-1.0.0-py2.py3-none-any.whl (18 kB)\n",
            "Downloading jaxlib-0.4.30-cp311-cp311-manylinux2014_x86_64.whl (79.6 MB)\n",
            "\u001b[2K   \u001b[90m━━━━━━━━━━━━━━━━━━━━━━━━━━━━━━━━━━━━━━━━\u001b[0m \u001b[32m79.6/79.6 MB\u001b[0m \u001b[31m9.2 MB/s\u001b[0m eta \u001b[36m0:00:00\u001b[0m\n",
            "\u001b[?25hInstalling collected packages: wrapt, tensorflow-estimator, protobuf, numpy, keras, gast, jaxlib, google-auth-oauthlib, tensorboard, jax, tensorflow\n",
            "  Attempting uninstall: wrapt\n",
            "    Found existing installation: wrapt 1.17.2\n",
            "    Uninstalling wrapt-1.17.2:\n",
            "      Successfully uninstalled wrapt-1.17.2\n",
            "  Attempting uninstall: protobuf\n",
            "    Found existing installation: protobuf 5.29.5\n",
            "    Uninstalling protobuf-5.29.5:\n",
            "      Successfully uninstalled protobuf-5.29.5\n",
            "  Attempting uninstall: numpy\n",
            "    Found existing installation: numpy 2.0.2\n",
            "    Uninstalling numpy-2.0.2:\n",
            "      Successfully uninstalled numpy-2.0.2\n",
            "  Attempting uninstall: keras\n",
            "    Found existing installation: keras 3.8.0\n",
            "    Uninstalling keras-3.8.0:\n",
            "      Successfully uninstalled keras-3.8.0\n",
            "  Attempting uninstall: gast\n",
            "    Found existing installation: gast 0.6.0\n",
            "    Uninstalling gast-0.6.0:\n",
            "      Successfully uninstalled gast-0.6.0\n",
            "  Attempting uninstall: jaxlib\n",
            "    Found existing installation: jaxlib 0.5.1\n",
            "    Uninstalling jaxlib-0.5.1:\n",
            "      Successfully uninstalled jaxlib-0.5.1\n",
            "  Attempting uninstall: google-auth-oauthlib\n",
            "    Found existing installation: google-auth-oauthlib 1.2.2\n",
            "    Uninstalling google-auth-oauthlib-1.2.2:\n",
            "      Successfully uninstalled google-auth-oauthlib-1.2.2\n",
            "  Attempting uninstall: tensorboard\n",
            "    Found existing installation: tensorboard 2.18.0\n",
            "    Uninstalling tensorboard-2.18.0:\n",
            "      Successfully uninstalled tensorboard-2.18.0\n",
            "  Attempting uninstall: jax\n",
            "    Found existing installation: jax 0.5.2\n",
            "    Uninstalling jax-0.5.2:\n",
            "      Successfully uninstalled jax-0.5.2\n",
            "  Attempting uninstall: tensorflow\n",
            "    Found existing installation: tensorflow 2.18.0\n",
            "    Uninstalling tensorflow-2.18.0:\n",
            "      Successfully uninstalled tensorflow-2.18.0\n",
            "\u001b[31mERROR: pip's dependency resolver does not currently take into account all the packages that are installed. This behaviour is the source of the following dependency conflicts.\n",
            "pymc 5.23.0 requires numpy>=1.25.0, but you have numpy 1.23.5 which is incompatible.\n",
            "albucore 0.0.24 requires numpy>=1.24.4, but you have numpy 1.23.5 which is incompatible.\n",
            "grpcio-status 1.71.0 requires protobuf<6.0dev,>=5.26.1, but you have protobuf 4.25.8 which is incompatible.\n",
            "xarray-einstats 0.9.0 requires numpy>=1.25, but you have numpy 1.23.5 which is incompatible.\n",
            "albumentations 2.0.8 requires numpy>=1.24.4, but you have numpy 1.23.5 which is incompatible.\n",
            "flax 0.10.6 requires jax>=0.5.1, but you have jax 0.4.30 which is incompatible.\n",
            "chex 0.1.89 requires numpy>=1.24.1, but you have numpy 1.23.5 which is incompatible.\n",
            "db-dtypes 1.4.3 requires numpy>=1.24.0, but you have numpy 1.23.5 which is incompatible.\n",
            "tensorflow-decision-forests 1.11.0 requires tensorflow==2.18.0, but you have tensorflow 2.12.0 which is incompatible.\n",
            "tensorflow-text 2.18.1 requires tensorflow<2.19,>=2.18.0, but you have tensorflow 2.12.0 which is incompatible.\n",
            "orbax-checkpoint 0.11.15 requires jax>=0.5.0, but you have jax 0.4.30 which is incompatible.\n",
            "bigframes 2.6.0 requires numpy>=1.24.0, but you have numpy 1.23.5 which is incompatible.\n",
            "xarray 2025.3.1 requires numpy>=1.24, but you have numpy 1.23.5 which is incompatible.\n",
            "treescope 0.1.9 requires numpy>=1.25.2, but you have numpy 1.23.5 which is incompatible.\n",
            "blosc2 3.4.0 requires numpy>=1.26, but you have numpy 1.23.5 which is incompatible.\n",
            "tf-keras 2.18.0 requires tensorflow<2.19,>=2.18, but you have tensorflow 2.12.0 which is incompatible.\n",
            "ydf 0.12.0 requires protobuf<6.0.0,>=5.29.1, but you have protobuf 4.25.8 which is incompatible.\n",
            "scikit-image 0.25.2 requires numpy>=1.24, but you have numpy 1.23.5 which is incompatible.\n",
            "imbalanced-learn 0.13.0 requires numpy<3,>=1.24.3, but you have numpy 1.23.5 which is incompatible.\n",
            "thinc 8.3.6 requires numpy<3.0.0,>=2.0.0, but you have numpy 1.23.5 which is incompatible.\u001b[0m\u001b[31m\n",
            "\u001b[0mSuccessfully installed gast-0.4.0 google-auth-oauthlib-1.0.0 jax-0.4.30 jaxlib-0.4.30 keras-2.12.0 numpy-1.23.5 protobuf-4.25.8 tensorboard-2.12.3 tensorflow-2.12.0 tensorflow-estimator-2.12.0 wrapt-1.14.1\n"
          ]
        },
        {
          "output_type": "display_data",
          "data": {
            "application/vnd.colab-display-data+json": {
              "pip_warning": {
                "packages": [
                  "google",
                  "numpy"
                ]
              },
              "id": "f1d7538b6ebc4fc1ac687ea4b917d906"
            }
          },
          "metadata": {}
        }
      ]
    },
    {
      "cell_type": "code",
      "execution_count": null,
      "metadata": {
        "colab": {
          "base_uri": "https://localhost:8080/"
        },
        "id": "Bpv6TyDBb4-h",
        "outputId": "53555d80-96de-4e9d-c0fe-2f3c79e23019"
      },
      "outputs": [
        {
          "output_type": "stream",
          "name": "stdout",
          "text": [
            "2.12.0\n"
          ]
        }
      ],
      "source": [
        "#Librerias\n",
        "import os\n",
        "import matplotlib.pylab as plt\n",
        "import numpy as np\n",
        "import tensorflow as tf\n",
        "print(tf.__version__)\n",
        "import tensorflow_hub as hub\n",
        "from google.colab import drive\n",
        "from tensorflow.keras.preprocessing.image import ImageDataGenerator\n",
        "import pathlib"
      ]
    },
    {
      "cell_type": "code",
      "source": [
        "drive.mount(\"/content/gdrive\")"
      ],
      "metadata": {
        "colab": {
          "base_uri": "https://localhost:8080/"
        },
        "id": "naZJveoxb9P2",
        "outputId": "7abc391f-5e6f-4daf-c6af-edb04006a47c"
      },
      "execution_count": null,
      "outputs": [
        {
          "output_type": "stream",
          "name": "stdout",
          "text": [
            "Mounted at /content/gdrive\n"
          ]
        }
      ]
    },
    {
      "cell_type": "code",
      "source": [
        "#desempaquear los archivos\n",
        "%cd /content/gdrive/MyDrive/ML_entrenamiento\n",
        "!unzip /content/gdrive/MyDrive/ML_entrenamiento/dataset.zip -d ."
      ],
      "metadata": {
        "colab": {
          "base_uri": "https://localhost:8080/"
        },
        "id": "FSnxE1Osb_Vt",
        "outputId": "09dd7cd4-5a47-4e8f-90d6-ae07671de102"
      },
      "execution_count": null,
      "outputs": [
        {
          "output_type": "stream",
          "name": "stdout",
          "text": [
            "/content/gdrive/MyDrive/ML_entrenamiento\n",
            "Archive:  /content/gdrive/MyDrive/ML_entrenamiento/dataset.zip\n",
            "   creating: ./a/\n",
            "  inflating: ./a/a1.jpg              \n",
            "  inflating: ./a/a10.jpg             \n",
            "  inflating: ./a/a11.jpg             \n",
            "  inflating: ./a/a12.jpg             \n",
            "  inflating: ./a/a13.jpg             \n",
            "  inflating: ./a/a14.jpg             \n",
            "  inflating: ./a/a15.jpg             \n",
            "  inflating: ./a/a16.jpg             \n",
            "  inflating: ./a/a17.jpg             \n",
            "  inflating: ./a/a18.jpg             \n",
            "  inflating: ./a/a19.jpg             \n",
            "  inflating: ./a/a2.jpg              \n",
            "  inflating: ./a/a20.jpg             \n",
            "  inflating: ./a/a21.jpg             \n",
            "  inflating: ./a/a22.jpg             \n",
            "  inflating: ./a/a23.jpg             \n",
            "  inflating: ./a/a24.jpg             \n",
            "  inflating: ./a/a25.jpg             \n",
            "  inflating: ./a/a26.jpg             \n",
            "  inflating: ./a/a27.jpg             \n",
            "  inflating: ./a/a28.jpg             \n",
            "  inflating: ./a/a29.jpg             \n",
            "  inflating: ./a/a3.jpg              \n",
            "  inflating: ./a/a30.jpg             \n",
            "  inflating: ./a/a31.jpg             \n",
            "  inflating: ./a/a32.jpg             \n",
            "  inflating: ./a/a33.jpg             \n",
            "  inflating: ./a/a34.jpg             \n",
            "  inflating: ./a/a35.jpg             \n",
            "  inflating: ./a/a36.jpg             \n",
            "  inflating: ./a/a37.jpg             \n",
            "  inflating: ./a/a38.jpg             \n",
            "  inflating: ./a/a39.jpg             \n",
            "  inflating: ./a/a4.jpg              \n",
            "  inflating: ./a/a40.jpg             \n",
            "  inflating: ./a/a41.jpg             \n",
            "  inflating: ./a/a42.jpg             \n",
            "  inflating: ./a/a43.jpg             \n",
            "  inflating: ./a/a44.jpg             \n",
            "  inflating: ./a/a45.jpg             \n",
            "  inflating: ./a/a46.jpg             \n",
            "  inflating: ./a/a47.jpg             \n",
            "  inflating: ./a/a48.jpg             \n",
            "  inflating: ./a/a49.jpg             \n",
            "  inflating: ./a/a5.jpg              \n",
            "  inflating: ./a/a50.jpg             \n",
            "  inflating: ./a/a51.jpg             \n",
            "  inflating: ./a/a52.jpg             \n",
            "  inflating: ./a/a53.jpg             \n",
            "  inflating: ./a/a54.jpg             \n",
            "  inflating: ./a/a55.jpg             \n",
            "  inflating: ./a/a56.jpg             \n",
            "  inflating: ./a/a57.jpg             \n",
            "  inflating: ./a/a58.jpg             \n",
            "  inflating: ./a/a59.jpg             \n",
            "  inflating: ./a/a6.jpg              \n",
            "  inflating: ./a/a60.jpg             \n",
            "  inflating: ./a/a61.jpg             \n",
            "  inflating: ./a/a62.jpg             \n",
            "  inflating: ./a/a63.jpg             \n",
            "  inflating: ./a/a64.jpg             \n",
            "  inflating: ./a/a65.jpg             \n",
            "  inflating: ./a/a66.jpg             \n",
            "  inflating: ./a/a67.jpg             \n",
            "  inflating: ./a/a68.jpg             \n",
            "  inflating: ./a/a69.jpg             \n",
            "  inflating: ./a/a7.jpg              \n",
            "  inflating: ./a/a70.jpg             \n",
            "  inflating: ./a/a8.jpg              \n",
            "  inflating: ./a/a9.jpg              \n",
            "   creating: ./b/\n",
            "  inflating: ./b/b1.jpg              \n",
            "  inflating: ./b/b10.jpg             \n",
            "  inflating: ./b/b11.jpg             \n",
            "  inflating: ./b/b12.jpg             \n",
            "  inflating: ./b/b13.jpg             \n",
            "  inflating: ./b/b14.jpg             \n",
            "  inflating: ./b/b15.jpg             \n",
            "  inflating: ./b/b16.jpg             \n",
            "  inflating: ./b/b17.jpg             \n",
            "  inflating: ./b/b18.jpg             \n",
            "  inflating: ./b/b19.jpg             \n",
            "  inflating: ./b/b2.jpg              \n",
            "  inflating: ./b/b20.jpg             \n",
            "  inflating: ./b/b21.jpg             \n",
            "  inflating: ./b/b22.jpg             \n",
            "  inflating: ./b/b23.jpg             \n",
            "  inflating: ./b/b24.jpg             \n",
            "  inflating: ./b/b25.jpg             \n",
            "  inflating: ./b/b26.jpg             \n",
            "  inflating: ./b/b27.jpg             \n",
            "  inflating: ./b/b28.jpg             \n",
            "  inflating: ./b/b29.jpg             \n",
            "  inflating: ./b/b3.jpg              \n",
            "  inflating: ./b/b30.jpg             \n",
            "  inflating: ./b/b31.jpg             \n",
            "  inflating: ./b/b32.jpg             \n",
            "  inflating: ./b/b33.jpg             \n",
            "  inflating: ./b/b34.jpg             \n",
            "  inflating: ./b/b35.jpg             \n",
            "  inflating: ./b/b36.jpg             \n",
            "  inflating: ./b/b37.jpg             \n",
            "  inflating: ./b/b38.jpg             \n",
            "  inflating: ./b/b39.jpg             \n",
            "  inflating: ./b/b4.jpg              \n",
            "  inflating: ./b/b40.jpg             \n",
            "  inflating: ./b/b41.jpg             \n",
            "  inflating: ./b/b42.jpg             \n",
            "  inflating: ./b/b43.jpg             \n",
            "  inflating: ./b/b44.jpg             \n",
            "  inflating: ./b/b45.jpg             \n",
            "  inflating: ./b/b46.jpg             \n",
            "  inflating: ./b/b47.jpg             \n",
            "  inflating: ./b/b48.jpg             \n",
            "  inflating: ./b/b49.jpg             \n",
            "  inflating: ./b/b5.jpg              \n",
            "  inflating: ./b/b50.jpg             \n",
            "  inflating: ./b/b51.jpg             \n",
            "  inflating: ./b/b52.jpg             \n",
            "  inflating: ./b/b53.jpg             \n",
            "  inflating: ./b/b54.jpg             \n",
            "  inflating: ./b/b55.jpg             \n",
            "  inflating: ./b/b56.jpg             \n",
            "  inflating: ./b/b57.jpg             \n",
            "  inflating: ./b/b58.jpg             \n",
            "  inflating: ./b/b59.jpg             \n",
            "  inflating: ./b/b6.jpg              \n",
            "  inflating: ./b/b60.jpg             \n",
            "  inflating: ./b/b61.jpg             \n",
            "  inflating: ./b/b62.jpg             \n",
            "  inflating: ./b/b63.jpg             \n",
            "  inflating: ./b/b64.jpg             \n",
            "  inflating: ./b/b65.jpg             \n",
            "  inflating: ./b/b66.jpg             \n",
            "  inflating: ./b/b67.jpg             \n",
            "  inflating: ./b/b68.jpg             \n",
            "  inflating: ./b/b69.jpg             \n",
            "  inflating: ./b/b7.jpg              \n",
            "  inflating: ./b/b70.jpg             \n",
            "  inflating: ./b/b8.jpg              \n",
            "  inflating: ./b/b9.jpg              \n",
            "   creating: ./none/\n",
            "  inflating: ./none/none1.jpg        \n",
            "  inflating: ./none/none10.jpg       \n",
            "  inflating: ./none/none11.jpg       \n",
            "  inflating: ./none/none12.jpg       \n",
            "  inflating: ./none/none13.jpg       \n",
            "  inflating: ./none/none14.jpg       \n",
            "  inflating: ./none/none15.jpg       \n",
            "  inflating: ./none/none16.jpg       \n",
            "  inflating: ./none/none17.jpg       \n",
            "  inflating: ./none/none18.jpg       \n",
            "  inflating: ./none/none19.jpg       \n",
            "  inflating: ./none/none2.jpg        \n",
            "  inflating: ./none/none20.jpg       \n",
            "  inflating: ./none/none21.jpg       \n",
            "  inflating: ./none/none22.jpg       \n",
            "  inflating: ./none/none23.jpg       \n",
            "  inflating: ./none/none24.jpg       \n",
            "  inflating: ./none/none25.jpg       \n",
            "  inflating: ./none/none26.jpg       \n",
            "  inflating: ./none/none27.jpg       \n",
            "  inflating: ./none/none28.jpg       \n",
            "  inflating: ./none/none29.jpg       \n",
            "  inflating: ./none/none3.jpg        \n",
            "  inflating: ./none/none30.jpg       \n",
            "  inflating: ./none/none31.jpg       \n",
            "  inflating: ./none/none32.jpg       \n",
            "  inflating: ./none/none33.jpg       \n",
            "  inflating: ./none/none34.jpg       \n",
            "  inflating: ./none/none35.jpg       \n",
            "  inflating: ./none/none36.jpg       \n",
            "  inflating: ./none/none37.jpg       \n",
            "  inflating: ./none/none38.jpg       \n",
            "  inflating: ./none/none39.jpg       \n",
            "  inflating: ./none/none4.jpg        \n",
            "  inflating: ./none/none40.jpg       \n",
            "  inflating: ./none/none41.jpg       \n",
            "  inflating: ./none/none42.jpg       \n",
            "  inflating: ./none/none43.jpg       \n",
            "  inflating: ./none/none44.jpg       \n",
            "  inflating: ./none/none45.jpg       \n",
            "  inflating: ./none/none46.jpg       \n",
            "  inflating: ./none/none47.jpg       \n",
            "  inflating: ./none/none48.jpg       \n",
            "  inflating: ./none/none49.jpg       \n",
            "  inflating: ./none/none5.jpg        \n",
            "  inflating: ./none/none50.jpg       \n",
            "  inflating: ./none/none51.jpg       \n",
            "  inflating: ./none/none52.jpg       \n",
            "  inflating: ./none/none53.jpg       \n",
            "  inflating: ./none/none54.jpg       \n",
            "  inflating: ./none/none55.jpg       \n",
            "  inflating: ./none/none56.jpg       \n",
            "  inflating: ./none/none57.jpg       \n",
            "  inflating: ./none/none58.jpg       \n",
            "  inflating: ./none/none59.jpg       \n",
            "  inflating: ./none/none6.jpg        \n",
            "  inflating: ./none/none60.jpg       \n",
            "  inflating: ./none/none61.jpg       \n",
            "  inflating: ./none/none62.jpg       \n",
            "  inflating: ./none/none63.jpg       \n",
            "  inflating: ./none/none64.jpg       \n",
            "  inflating: ./none/none65.jpg       \n",
            "  inflating: ./none/none66.jpg       \n",
            "  inflating: ./none/none67.jpg       \n",
            "  inflating: ./none/none68.jpg       \n",
            "  inflating: ./none/none69.jpg       \n",
            "  inflating: ./none/none7.jpg        \n",
            "  inflating: ./none/none70.jpg       \n",
            "  inflating: ./none/none8.jpg        \n",
            "  inflating: ./none/none9.jpg        \n"
          ]
        }
      ]
    },
    {
      "cell_type": "code",
      "source": [
        "#Generar aumentos de datos\n",
        "datage = ImageDataGenerator(\n",
        "    rescale = 1./255,\n",
        "    rotation_range = 10,\n",
        "    width_shift_range = 0.1,\n",
        "    height_shift_range = 0.1,\n",
        "    zoom_range = [0.9,1.1],\n",
        "    validation_split = 0.25 # porcentaje de validacion\n",
        ")"
      ],
      "metadata": {
        "id": "iheuyMBrcCDH"
      },
      "execution_count": null,
      "outputs": []
    },
    {
      "cell_type": "code",
      "source": [
        "#dividir el dataset\n",
        "path = \"/content/gdrive/MyDrive/ML_entrenamiento/\"\n",
        "data_gen_entrenamiento = datage.flow_from_directory(path,target_size=(224,224,),batch_size = 32, shuffle = True,subset = 'training')\n",
        "data_gen_validacion = datage.flow_from_directory(path,target_size=(224,224,),batch_size = 32, shuffle = True,subset = 'validation')"
      ],
      "metadata": {
        "colab": {
          "base_uri": "https://localhost:8080/"
        },
        "id": "ktohvFYAcGBF",
        "outputId": "8e4b0a3f-8903-492c-faa9-7ced3def4041"
      },
      "execution_count": null,
      "outputs": [
        {
          "output_type": "stream",
          "name": "stdout",
          "text": [
            "Found 159 images belonging to 3 classes.\n",
            "Found 51 images belonging to 3 classes.\n"
          ]
        }
      ]
    },
    {
      "cell_type": "code",
      "source": [
        "num_class = len(data_gen_entrenamiento.class_indices)\n",
        "num_class"
      ],
      "metadata": {
        "colab": {
          "base_uri": "https://localhost:8080/"
        },
        "id": "jJfrr8SBcIkd",
        "outputId": "d5fcc901-7ba2-4a41-9697-9e1200b7a5bf"
      },
      "execution_count": null,
      "outputs": [
        {
          "output_type": "execute_result",
          "data": {
            "text/plain": [
              "3"
            ]
          },
          "metadata": {},
          "execution_count": 7
        }
      ]
    },
    {
      "cell_type": "code",
      "source": [
        "path_model = \"https://tfhub.dev/google/imagenet/mobilenet_v2_100_224/feature_vector/5\"\n",
        "base = hub.KerasLayer(path_model, trainable=True)\n",
        "model = tf.keras.Sequential([\n",
        "    tf.keras.layers.InputLayer((224,224,3)),\n",
        "    base,\n",
        "    tf.keras.layers.Dropout(0.4),\n",
        "    tf.keras.layers.Dense(\n",
        "        num_class,\n",
        "        kernel_regularizer=tf.keras.regularizers.l2(1e-4),\n",
        "        activation='softmax'\n",
        "    )\n",
        "])"
      ],
      "metadata": {
        "id": "oPdeMbsacKIN"
      },
      "execution_count": null,
      "outputs": []
    },
    {
      "cell_type": "code",
      "source": [
        "model.summary()"
      ],
      "metadata": {
        "colab": {
          "base_uri": "https://localhost:8080/"
        },
        "id": "jrIx5B6jcLb-",
        "outputId": "d3a73b9e-aa5d-414a-9c77-7ffbd5276b4c"
      },
      "execution_count": null,
      "outputs": [
        {
          "output_type": "stream",
          "name": "stdout",
          "text": [
            "Model: \"sequential\"\n",
            "_________________________________________________________________\n",
            " Layer (type)                Output Shape              Param #   \n",
            "=================================================================\n",
            " keras_layer (KerasLayer)    (None, 1280)              2257984   \n",
            "                                                                 \n",
            " dropout (Dropout)           (None, 1280)              0         \n",
            "                                                                 \n",
            " dense (Dense)               (None, 3)                 3843      \n",
            "                                                                 \n",
            "=================================================================\n",
            "Total params: 2,261,827\n",
            "Trainable params: 2,227,715\n",
            "Non-trainable params: 34,112\n",
            "_________________________________________________________________\n"
          ]
        }
      ]
    },
    {
      "cell_type": "code",
      "source": [
        "model.compile(\n",
        "    optimizer=tf.keras.optimizers.Adam(learning_rate=1e-4),\n",
        "    loss=tf.keras.losses.CategoricalCrossentropy(from_logits=False, label_smoothing=0.05),\n",
        "    metrics=[\n",
        "        'accuracy',\n",
        "        tf.keras.metrics.Precision(name='precision'),\n",
        "        tf.keras.metrics.Recall(name='recall')\n",
        "    ]\n",
        ")\n",
        "\n",
        "callbacks = [\n",
        "    tf.keras.callbacks.EarlyStopping(\n",
        "        monitor='val_loss',\n",
        "        patience=3,\n",
        "        restore_best_weights=True\n",
        "    ),\n",
        "    tf.keras.callbacks.ReduceLROnPlateau(\n",
        "        monitor='val_loss',\n",
        "        factor=0.5,\n",
        "        patience=2,\n",
        "        min_lr=1e-6\n",
        "    )\n",
        "]"
      ],
      "metadata": {
        "id": "A2MfaDdFcM7d"
      },
      "execution_count": null,
      "outputs": []
    },
    {
      "cell_type": "code",
      "source": [
        "hist = model.fit(\n",
        "    data_gen_entrenamiento,\n",
        "    epochs=10,\n",
        "    validation_data=data_gen_validacion,\n",
        "    callbacks=callbacks\n",
        ").history\n"
      ],
      "metadata": {
        "colab": {
          "base_uri": "https://localhost:8080/"
        },
        "id": "Lt1_GPQ7cOrd",
        "outputId": "c0362ac8-ce7c-49df-c3f2-c3844695e579"
      },
      "execution_count": null,
      "outputs": [
        {
          "output_type": "stream",
          "name": "stdout",
          "text": [
            "Epoch 1/10\n",
            "5/5 [==============================] - 75s 10s/step - loss: 0.9415 - accuracy: 0.6478 - precision: 0.7213 - recall: 0.5535 - val_loss: 1.0129 - val_accuracy: 0.4706 - val_precision: 0.4706 - val_recall: 0.4706 - lr: 1.0000e-04\n",
            "Epoch 2/10\n",
            "5/5 [==============================] - 48s 9s/step - loss: 0.3365 - accuracy: 0.9874 - precision: 0.9936 - recall: 0.9811 - val_loss: 0.8781 - val_accuracy: 0.5686 - val_precision: 0.5417 - val_recall: 0.5098 - lr: 1.0000e-04\n",
            "Epoch 3/10\n",
            "5/5 [==============================] - 46s 9s/step - loss: 0.2937 - accuracy: 1.0000 - precision: 1.0000 - recall: 1.0000 - val_loss: 0.8169 - val_accuracy: 0.6275 - val_precision: 0.6400 - val_recall: 0.6275 - lr: 1.0000e-04\n",
            "Epoch 4/10\n",
            "5/5 [==============================] - 47s 9s/step - loss: 0.3026 - accuracy: 1.0000 - precision: 1.0000 - recall: 1.0000 - val_loss: 0.7909 - val_accuracy: 0.6275 - val_precision: 0.6122 - val_recall: 0.5882 - lr: 1.0000e-04\n",
            "Epoch 5/10\n",
            "5/5 [==============================] - 50s 9s/step - loss: 0.3011 - accuracy: 1.0000 - precision: 1.0000 - recall: 1.0000 - val_loss: 0.6410 - val_accuracy: 0.6863 - val_precision: 0.6800 - val_recall: 0.6667 - lr: 1.0000e-04\n",
            "Epoch 6/10\n",
            "5/5 [==============================] - 46s 9s/step - loss: 0.3029 - accuracy: 1.0000 - precision: 1.0000 - recall: 1.0000 - val_loss: 0.6495 - val_accuracy: 0.7059 - val_precision: 0.7143 - val_recall: 0.6863 - lr: 1.0000e-04\n",
            "Epoch 7/10\n",
            "5/5 [==============================] - 46s 9s/step - loss: 0.2865 - accuracy: 1.0000 - precision: 1.0000 - recall: 1.0000 - val_loss: 0.5313 - val_accuracy: 0.8235 - val_precision: 0.8542 - val_recall: 0.8039 - lr: 1.0000e-04\n",
            "Epoch 8/10\n",
            "5/5 [==============================] - 46s 9s/step - loss: 0.2791 - accuracy: 1.0000 - precision: 1.0000 - recall: 1.0000 - val_loss: 0.4977 - val_accuracy: 0.9020 - val_precision: 0.8958 - val_recall: 0.8431 - lr: 1.0000e-04\n",
            "Epoch 9/10\n",
            "5/5 [==============================] - 46s 9s/step - loss: 0.2866 - accuracy: 1.0000 - precision: 1.0000 - recall: 1.0000 - val_loss: 0.4795 - val_accuracy: 0.8235 - val_precision: 0.8723 - val_recall: 0.8039 - lr: 1.0000e-04\n",
            "Epoch 10/10\n",
            "5/5 [==============================] - 51s 10s/step - loss: 0.2827 - accuracy: 1.0000 - precision: 1.0000 - recall: 1.0000 - val_loss: 0.4512 - val_accuracy: 0.9412 - val_precision: 0.9778 - val_recall: 0.8627 - lr: 1.0000e-04\n"
          ]
        }
      ]
    },
    {
      "cell_type": "code",
      "source": [
        "class_names = tuple(data_gen_entrenamiento.class_indices)\n",
        "class_names"
      ],
      "metadata": {
        "colab": {
          "base_uri": "https://localhost:8080/"
        },
        "id": "4o5eULwvcQFV",
        "outputId": "c5f169db-22ca-4404-c9dc-9f873b47d970"
      },
      "execution_count": null,
      "outputs": [
        {
          "output_type": "execute_result",
          "data": {
            "text/plain": [
              "('a', 'b', 'none')"
            ]
          },
          "metadata": {},
          "execution_count": 12
        }
      ]
    },
    {
      "cell_type": "code",
      "source": [
        "x, y = next(iter(data_gen_validacion))\n",
        "image = x[0, :, :, :]\n",
        "true_index = np.argmax(y[0])\n",
        "plt.imshow(image)\n",
        "plt.axis('off')\n",
        "plt.show()\n",
        "\n",
        "prediction_scores = model.predict(np.expand_dims(image, axis=0))\n",
        "predicted_index = np.argmax(prediction_scores)\n",
        "score = np.max(prediction_scores)\n",
        "print(f\"Puntuacion: {score}\")\n",
        "print(\"Etiqueta Predicha: \" + class_names[true_index])\n",
        "print(\"Etiqueta Verdadera: \" + class_names[predicted_index])"
      ],
      "metadata": {
        "colab": {
          "base_uri": "https://localhost:8080/",
          "height": 475
        },
        "id": "rZl2bjdYcRiN",
        "outputId": "f1784be7-e72e-4885-8247-48f23553636f"
      },
      "execution_count": null,
      "outputs": [
        {
          "output_type": "display_data",
          "data": {
            "text/plain": [
              "<Figure size 640x480 with 1 Axes>"
            ],
            "image/png": "[encoded data removed]"
          },
          "metadata": {}
        },
        {
          "output_type": "stream",
          "name": "stdout",
          "text": [
            "1/1 [==============================] - 0s 61ms/step\n",
            "Puntuacion: 0.6785765886306763\n",
            "Etiqueta Predicha: none\n",
            "Etiqueta Verdadera: none\n"
          ]
        }
      ]
    },
    {
      "cell_type": "code",
      "source": [
        "path_model = \"/content/gdrive/MyDrive/ML_entrenamiento/modelo\"\n",
        "model.save(path_model)"
      ],
      "metadata": {
        "colab": {
          "base_uri": "https://localhost:8080/"
        },
        "id": "UxgAvSkVcTVF",
        "outputId": "91c427cb-ce38-4c4b-b524-49d8b4804b44"
      },
      "execution_count": null,
      "outputs": [
        {
          "output_type": "stream",
          "name": "stderr",
          "text": [
            "WARNING:absl:Found untraced functions such as _update_step_xla while saving (showing 1 of 1). These functions will not be directly callable after loading.\n"
          ]
        }
      ]
    },
    {
      "cell_type": "code",
      "source": [
        "export_dir = \"/content/gdrive/MyDrive/ML_entrenamiento/modelo\""
      ],
      "metadata": {
        "id": "PjKRVA9NcUrF"
      },
      "execution_count": null,
      "outputs": []
    },
    {
      "cell_type": "code",
      "source": [
        "converter = tf.lite.TFLiteConverter.from_saved_model(export_dir)\n",
        "converter.optimizations = [tf.lite.Optimize.DEFAULT]\n",
        "converter.target_spec.supported_types = [tf.float16]\n",
        "tflite_model = converter.convert()\n",
        "tflite_model_file = pathlib.Path('/content/gdrive/MyDrive/ML_entrenamiento/model.tflite')\n",
        "tflite_model_file.write_bytes(tflite_model)"
      ],
      "metadata": {
        "colab": {
          "base_uri": "https://localhost:8080/"
        },
        "id": "OXrKFcZKcWGN",
        "outputId": "86b3b1ef-8691-44f2-db9b-4cb7c1e54cd9"
      },
      "execution_count": null,
      "outputs": [
        {
          "output_type": "execute_result",
          "data": {
            "text/plain": [
              "4505796"
            ]
          },
          "metadata": {},
          "execution_count": 17
        }
      ]
    },
    {
      "cell_type": "code",
      "source": [
        "!pip install tflite_support_nightly"
      ],
      "metadata": {
        "colab": {
          "base_uri": "https://localhost:8080/",
          "height": 721
        },
        "id": "u2GrwQhLoHu0",
        "outputId": "514164bd-5b1c-475a-9815-a66c381a5beb"
      },
      "execution_count": null,
      "outputs": [
        {
          "output_type": "stream",
          "name": "stdout",
          "text": [
            "Collecting tflite_support_nightly\n",
            "  Downloading tflite_support_nightly-0.4.4.dev20230716-cp311-cp311-manylinux2014_x86_64.whl.metadata (2.4 kB)\n",
            "Requirement already satisfied: absl-py>=0.7.0 in /usr/local/lib/python3.11/dist-packages (from tflite_support_nightly) (1.4.0)\n",
            "Requirement already satisfied: numpy>=1.20.0 in /usr/local/lib/python3.11/dist-packages (from tflite_support_nightly) (1.23.5)\n",
            "Requirement already satisfied: flatbuffers>=2.0 in /usr/local/lib/python3.11/dist-packages (from tflite_support_nightly) (25.2.10)\n",
            "Collecting protobuf<4,>=3.18.0 (from tflite_support_nightly)\n",
            "  Downloading protobuf-3.20.3-py2.py3-none-any.whl.metadata (720 bytes)\n",
            "Collecting sounddevice>=0.4.4 (from tflite_support_nightly)\n",
            "  Downloading sounddevice-0.5.2-py3-none-any.whl.metadata (1.6 kB)\n",
            "Collecting pybind11>=2.6.0 (from tflite_support_nightly)\n",
            "  Downloading pybind11-2.13.6-py3-none-any.whl.metadata (9.5 kB)\n",
            "Requirement already satisfied: CFFI>=1.0 in /usr/local/lib/python3.11/dist-packages (from sounddevice>=0.4.4->tflite_support_nightly) (1.17.1)\n",
            "Requirement already satisfied: pycparser in /usr/local/lib/python3.11/dist-packages (from CFFI>=1.0->sounddevice>=0.4.4->tflite_support_nightly) (2.22)\n",
            "Downloading tflite_support_nightly-0.4.4.dev20230716-cp311-cp311-manylinux2014_x86_64.whl (60.8 MB)\n",
            "\u001b[2K   \u001b[90m━━━━━━━━━━━━━━━━━━━━━━━━━━━━━━━━━━━━━━━━\u001b[0m \u001b[32m60.8/60.8 MB\u001b[0m \u001b[31m11.1 MB/s\u001b[0m eta \u001b[36m0:00:00\u001b[0m\n",
            "\u001b[?25hDownloading protobuf-3.20.3-py2.py3-none-any.whl (162 kB)\n",
            "\u001b[2K   \u001b[90m━━━━━━━━━━━━━━━━━━━━━━━━━━━━━━━━━━━━━━━━\u001b[0m \u001b[32m162.1/162.1 kB\u001b[0m \u001b[31m10.7 MB/s\u001b[0m eta \u001b[36m0:00:00\u001b[0m\n",
            "\u001b[?25hDownloading pybind11-2.13.6-py3-none-any.whl (243 kB)\n",
            "\u001b[2K   \u001b[90m━━━━━━━━━━━━━━━━━━━━━━━━━━━━━━━━━━━━━━━━\u001b[0m \u001b[32m243.3/243.3 kB\u001b[0m \u001b[31m15.1 MB/s\u001b[0m eta \u001b[36m0:00:00\u001b[0m\n",
            "\u001b[?25hDownloading sounddevice-0.5.2-py3-none-any.whl (32 kB)\n",
            "Installing collected packages: pybind11, protobuf, sounddevice, tflite_support_nightly\n",
            "  Attempting uninstall: protobuf\n",
            "    Found existing installation: protobuf 4.25.8\n",
            "    Uninstalling protobuf-4.25.8:\n",
            "      Successfully uninstalled protobuf-4.25.8\n",
            "\u001b[31mERROR: pip's dependency resolver does not currently take into account all the packages that are installed. This behaviour is the source of the following dependency conflicts.\n",
            "tensorflow-metadata 1.17.1 requires protobuf<6.0.0,>=4.25.2; python_version >= \"3.11\", but you have protobuf 3.20.3 which is incompatible.\n",
            "grpcio-status 1.71.0 requires protobuf<6.0dev,>=5.26.1, but you have protobuf 3.20.3 which is incompatible.\n",
            "tensorflow-decision-forests 1.11.0 requires tensorflow==2.18.0, but you have tensorflow 2.12.0 which is incompatible.\n",
            "tensorflow-text 2.18.1 requires tensorflow<2.19,>=2.18.0, but you have tensorflow 2.12.0 which is incompatible.\n",
            "orbax-checkpoint 0.11.15 requires jax>=0.5.0, but you have jax 0.4.30 which is incompatible.\n",
            "bigframes 2.6.0 requires numpy>=1.24.0, but you have numpy 1.23.5 which is incompatible.\n",
            "tf-keras 2.18.0 requires tensorflow<2.19,>=2.18, but you have tensorflow 2.12.0 which is incompatible.\n",
            "ydf 0.12.0 requires protobuf<6.0.0,>=5.29.1, but you have protobuf 3.20.3 which is incompatible.\u001b[0m\u001b[31m\n",
            "\u001b[0mSuccessfully installed protobuf-3.20.3 pybind11-2.13.6 sounddevice-0.5.2 tflite_support_nightly-0.4.4.dev20230716\n"
          ]
        },
        {
          "output_type": "display_data",
          "data": {
            "application/vnd.colab-display-data+json": {
              "pip_warning": {
                "packages": [
                  "google"
                ]
              },
              "id": "98dac30e84414c9a9574b6dd1c764369"
            }
          },
          "metadata": {}
        }
      ]
    },
    {
      "cell_type": "code",
      "source": [
        "import os\n",
        "file = open(\"/content/gdrive/MyDrive/ML_entrenamiento/labelmap.txt\", \"w\")\n",
        "file.write(\"a\" + os.linesep)\n",
        "file.write(\"b\" + os.linesep)\n",
        "file.write(\"none\")\n",
        "file.close()"
      ],
      "metadata": {
        "id": "YgrdNcSLcZZm"
      },
      "execution_count": null,
      "outputs": []
    },
    {
      "cell_type": "code",
      "source": [
        "from tflite_support.metadata_writers import image_classifier\n",
        "from tflite_support.metadata_writers import writer_utils\n",
        "\n",
        "ImageClassifierWriter = image_classifier.MetadataWriter\n",
        "\n",
        "_MODEL_PATH = \"/content/gdrive/MyDrive/ML_entrenamiento/model.tflite\"\n",
        "_LABEL_FILE = \"/content/gdrive/MyDrive/ML_entrenamiento/labelmap.txt\"\n",
        "_SAVE_TO_PATH = \"/content/gdrive/MyDrive/ML_entrenamiento/model_meta.tflite\"\n",
        "\n",
        "_INPUT_NORM_MEAN = 127.5\n",
        "_INPUT_NORM_STD = 127.5\n",
        "\n",
        "# Create the metadata writer.\n",
        "writer = ImageClassifierWriter.create_for_inference(\n",
        "    writer_utils.load_file(_MODEL_PATH), [_INPUT_NORM_MEAN], [_INPUT_NORM_STD], [_LABEL_FILE])\n",
        "\n",
        "# Verify the metadata generated by metadata writer.\n",
        "print(writer.get_metadata_json())\n",
        "\n",
        "# Populate the metadata into the model.\n",
        "writer_utils.save_file(writer.populate(), _SAVE_TO_PATH)"
      ],
      "metadata": {
        "colab": {
          "base_uri": "https://localhost:8080/"
        },
        "id": "TGKwne2oca7F",
        "outputId": "469bfc57-3f23-4f8c-95ae-c7b29e0a0fe2"
      },
      "execution_count": null,
      "outputs": [
        {
          "output_type": "stream",
          "name": "stdout",
          "text": [
            "{\n",
            "  \"name\": \"ImageClassifier\",\n",
            "  \"description\": \"Identify the most prominent object in the image from a known set of categories.\",\n",
            "  \"subgraph_metadata\": [\n",
            "    {\n",
            "      \"input_tensor_metadata\": [\n",
            "        {\n",
            "          \"name\": \"image\",\n",
            "          \"description\": \"Input image to be classified.\",\n",
            "          \"content\": {\n",
            "            \"content_properties_type\": \"ImageProperties\",\n",
            "            \"content_properties\": {\n",
            "              \"color_space\": \"RGB\"\n",
            "            }\n",
            "          },\n",
            "          \"process_units\": [\n",
            "            {\n",
            "              \"options_type\": \"NormalizationOptions\",\n",
            "              \"options\": {\n",
            "                \"mean\": [\n",
            "                  127.5\n",
            "                ],\n",
            "                \"std\": [\n",
            "                  127.5\n",
            "                ]\n",
            "              }\n",
            "            }\n",
            "          ],\n",
            "          \"stats\": {\n",
            "            \"max\": [\n",
            "              1.0\n",
            "            ],\n",
            "            \"min\": [\n",
            "              -1.0\n",
            "            ]\n",
            "          }\n",
            "        }\n",
            "      ],\n",
            "      \"output_tensor_metadata\": [\n",
            "        {\n",
            "          \"name\": \"probability\",\n",
            "          \"description\": \"Probabilities of the labels respectively.\",\n",
            "          \"content\": {\n",
            "            \"content_properties_type\": \"FeatureProperties\",\n",
            "            \"content_properties\": {\n",
            "            }\n",
            "          },\n",
            "          \"stats\": {\n",
            "            \"max\": [\n",
            "              1.0\n",
            "            ],\n",
            "            \"min\": [\n",
            "              0.0\n",
            "            ]\n",
            "          },\n",
            "          \"associated_files\": [\n",
            "            {\n",
            "              \"name\": \"labelmap.txt\",\n",
            "              \"description\": \"Labels for categories that the model can recognize.\",\n",
            "              \"type\": \"TENSOR_AXIS_LABELS\"\n",
            "            }\n",
            "          ]\n",
            "        }\n",
            "      ]\n",
            "    }\n",
            "  ]\n",
            "}\n",
            "\n"
          ]
        }
      ]
    },
    {
      "cell_type": "code",
      "source": [],
      "metadata": {
        "id": "rAYcYIr_ccu1"
      },
      "execution_count": null,
      "outputs": []
    }
  ]
}